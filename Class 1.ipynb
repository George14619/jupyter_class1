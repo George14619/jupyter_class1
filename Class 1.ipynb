{
 "cells": [
  {
   "cell_type": "code",
   "execution_count": 2,
   "id": "45835e1b-2f9c-41b0-ae2b-80f9b3c24c02",
   "metadata": {},
   "outputs": [
    {
     "name": "stdout",
     "output_type": "stream",
     "text": [
      "h\n",
      "e\n",
      "l\n",
      "l\n",
      "o\n",
      ",\n",
      " \n",
      "w\n",
      "o\n",
      "r\n",
      "l\n",
      "d\n"
     ]
    }
   ],
   "source": [
    "for char in \"hello, world\":\n",
    "    print(char)\n",
    "\n",
    "# Press SHIFT+ENTER    "
   ]
  },
  {
   "cell_type": "markdown",
   "id": "b5f1a772-b918-4e78-9953-934caa787a89",
   "metadata": {},
   "source": [
    "# Problem 1 \n",
    "\n",
    "Given a pair of strings, determine if these strings are anagrams of each other. Return True if they are, False otherwise.\n",
    "\n",
    "## Criteria\n",
    "Two strings are said to be anagrams of each other if all the criteria below are met:\n",
    "1. Thet must use the same letters, the same amount of times.\n",
    "2. They must be of equal length.\n",
    "\n",
    "## Examples\n",
    "```\n",
    "earth and heart\n",
    "car and scar\n",
    "rats and star\n",
    "etc\n",
    "```"
   ]
  },
  {
   "cell_type": "code",
   "execution_count": 3,
   "id": "a9e236e2-b931-46c7-ae00-08131fa8a0ab",
   "metadata": {},
   "outputs": [],
   "source": [
    "# define my function \"anagram_check\" with parameters: s1 and s2 (of type string):\n",
    "# s1 = s1 without spaces and in lower case\n",
    "# s2 = s2 without spaces and in lower case\n",
    "# if the length of s1 is not equal to the length of s2:\n",
    "#     return False\n",
    "# otherwise: \n",
    "#     d1 = new dictionary\n",
    "#     d2 = new dictionary\n",
    "#     for each number in the range from 0 to the length of s1:\n",
    "#         if the character at position \"number\" in s1 is in d1:\n",
    "#            add 1 to the number of times I've seen that character in d1\n",
    "#         otherwise\n",
    "#            create a entry for that character in d1 and set the value to 1\n",
    "#         if the character at position \"number\" in s2 is in d2:\n",
    "#            add 1 to the number of times I've seen that character in d2\n",
    "#         otherwise\n",
    "#            create a entry for that character in d2 and set the value to 1\n",
    "#     if d1 is equal to d2:\n",
    "#           return True\n",
    "#     otherwise:\n",
    "#           return False"
   ]
  },
  {
   "cell_type": "code",
   "execution_count": null,
   "id": "c5f767d7-55b8-4125-9b72-a4bed68afd3b",
   "metadata": {},
   "outputs": [],
   "source": [
    "def anagram_check(s1, s2):\n",
    "    s1 = s1.replace(\" \", \"\").lower()\n",
    "    s2 = s2.replace(\" \", \"\").lower()\n",
    "\n",
    "    if len(s1) != len(s2):\n",
    "        return False\n",
    "\n",
    "    d1 = {}\n",
    "    d2 = {}\n",
    "\n",
    "    for char in s1:\n",
    "        if char in d1:\n",
    "            d1[char] += 1\n",
    "        else:\n",
    "            d1[char] = 1\n",
    "\n",
    "    for char in s2:\n",
    "        if char in d2:\n",
    "            d2[char] += 1\n",
    "        else:\n",
    "            d2[char] = 1\n",
    "    if d1 == d2:\n",
    "        return True\n",
    "    else:\n",
    "        return False"
   ]
  }
 ],
 "metadata": {
  "kernelspec": {
   "display_name": "Python 3 (ipykernel)",
   "language": "python",
   "name": "python3"
  },
  "language_info": {
   "codemirror_mode": {
    "name": "ipython",
    "version": 3
   },
   "file_extension": ".py",
   "mimetype": "text/x-python",
   "name": "python",
   "nbconvert_exporter": "python",
   "pygments_lexer": "ipython3",
   "version": "3.12.3"
  }
 },
 "nbformat": 4,
 "nbformat_minor": 5
}
