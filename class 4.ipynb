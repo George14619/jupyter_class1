{
 "cells": [
  {
   "cell_type": "markdown",
   "id": "25c3c492-483e-4bea-8673-05ee16503eb1",
   "metadata": {},
   "source": [
    "# Recursive Functions\n",
    "\n",
    "A function is said to be \"recursive\" if it calls itself at least once during execution. Most recursive functions have an exit condition typically referred to as the \"base case\"."
   ]
  },
  {
   "cell_type": "code",
   "execution_count": 1,
   "id": "4d3c672a-90eb-4fd0-834e-fdcc88e70dd0",
   "metadata": {},
   "outputs": [],
   "source": [
    "# Factorials\n",
    "# The factorial of a number \"N\" is represented as N! and is equal to the product of N and all the numbers precedingit, until reaching 1.\n",
    "# Example\n",
    "# 5! = 5*4*3*2*1\n",
    "# 5! = 5*4!\n",
    "# 4! = 4*3!\n",
    "# When it comes to factorials, a common convention is that 0! = 1\n",
    "\n",
    "def factorial(n):\n",
    "    if n ==0:\n",
    "        return 1\n",
    "    return n*factorial(n-1)"
   ]
  },
  {
   "cell_type": "code",
   "execution_count": 3,
   "id": "ad8bc94a-6f5b-4764-9e81-fb2e1167ba9b",
   "metadata": {},
   "outputs": [
    {
     "data": {
      "text/plain": [
       "3628800"
      ]
     },
     "execution_count": 3,
     "metadata": {},
     "output_type": "execute_result"
    }
   ],
   "source": [
    "factorial(10)"
   ]
  },
  {
   "cell_type": "code",
   "execution_count": 15,
   "id": "850e7f0c-6490-4be7-aa94-bbd5547ce8b3",
   "metadata": {},
   "outputs": [],
   "source": [
    "# Fibonacci\n",
    "# Fibonacci is a series of numbers given by the following equation:\n",
    "# Fn = F(n-1) + F(n-2)\n",
    "# There are two absolute base cases:\n",
    "# F0 = 0\n",
    "# F1 + 1\n",
    "# Example:\n",
    "# 0, 1, 1, 2, 3, 5, 8, 13, 21...\n",
    "\n",
    "from functools import lru_cache\n",
    "\n",
    "@lru_cache\n",
    "def fibonacci(n):\n",
    "    if n < 2:\n",
    "        return n \n",
    "    return fibonacci(n-1) + fibonacci(n-2)"
   ]
  },
  {
   "cell_type": "code",
   "execution_count": 16,
   "id": "52d13e91-5f65-4171-be7a-b8fa31bc2927",
   "metadata": {},
   "outputs": [
    {
     "data": {
      "text/plain": [
       "280571172992510140037611932413038677189525"
      ]
     },
     "execution_count": 16,
     "metadata": {},
     "output_type": "execute_result"
    }
   ],
   "source": [
    "fibonacci(200)"
   ]
  },
  {
   "cell_type": "code",
   "execution_count": 19,
   "id": "78c7cdb6-05a1-4ee4-9ffb-6fde0e1bd9ae",
   "metadata": {},
   "outputs": [],
   "source": [
    "\n",
    "cache = {}\n",
    "def fib(n):\n",
    "    if n in cache:\n",
    "        return cache[n]\n",
    "    if n < 2:\n",
    "        return n\n",
    "    cache[n] = fib(n-1) + fib(n-2)\n",
    "    return cache[n]\n",
    "        "
   ]
  },
  {
   "cell_type": "code",
   "execution_count": 27,
   "id": "e9cfc7bf-e233-46d7-a7fb-571c1d369fa4",
   "metadata": {},
   "outputs": [
    {
     "data": {
      "text/plain": [
       "32951280099"
      ]
     },
     "execution_count": 27,
     "metadata": {},
     "output_type": "execute_result"
    }
   ],
   "source": [
    "fibonacci(52)"
   ]
  },
  {
   "cell_type": "code",
   "execution_count": 31,
   "id": "ac95f285-a751-4553-abe1-cbe66b2226e6",
   "metadata": {},
   "outputs": [],
   "source": [
    "key = [0, 0, 0, 0, 0, 0, 0, 0, 52, 0, 0]\n",
    "value = [0, 0, 0, 0, 0, 0, 0, 0, 32951280099, 0, 0]\n",
    "\n",
    "def simple_hash(param):\n",
    "    return param%len(key)"
   ]
  },
  {
   "cell_type": "code",
   "execution_count": 33,
   "id": "70006a39-4002-4bea-a2c8-cfd52b7d2234",
   "metadata": {},
   "outputs": [
    {
     "name": "stdout",
     "output_type": "stream",
     "text": [
      "0\n"
     ]
    }
   ],
   "source": [
    "print(simple_hash(77))"
   ]
  },
  {
   "cell_type": "code",
   "execution_count": null,
   "id": "26fd7c5a-590b-46dd-b362-6917b1150f92",
   "metadata": {},
   "outputs": [],
   "source": []
  }
 ],
 "metadata": {
  "kernelspec": {
   "display_name": "Python 3 (ipykernel)",
   "language": "python",
   "name": "python3"
  },
  "language_info": {
   "codemirror_mode": {
    "name": "ipython",
    "version": 3
   },
   "file_extension": ".py",
   "mimetype": "text/x-python",
   "name": "python",
   "nbconvert_exporter": "python",
   "pygments_lexer": "ipython3",
   "version": "3.12.3"
  }
 },
 "nbformat": 4,
 "nbformat_minor": 5
}
